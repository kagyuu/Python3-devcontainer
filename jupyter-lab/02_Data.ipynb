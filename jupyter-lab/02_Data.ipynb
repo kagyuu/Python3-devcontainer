{
 "cells": [
  {
   "cell_type": "code",
   "execution_count": 2,
   "id": "4eedf732",
   "metadata": {},
   "outputs": [],
   "source": [
    "from typing import List\n",
    "def print_type_value(value_list : List) :\n",
    "    for v in value_list:\n",
    "        print(str(value_list.index(v)).zfill(3), type(v), v)\n"
   ]
  },
  {
   "attachments": {},
   "cell_type": "markdown",
   "id": "470639b0",
   "metadata": {},
   "source": [
    "# Types of Python"
   ]
  },
  {
   "cell_type": "code",
   "execution_count": 3,
   "id": "44f2b677",
   "metadata": {},
   "outputs": [
    {
     "name": "stdout",
     "output_type": "stream",
     "text": [
      "000 <class 'bool'> True\n",
      "001 <class 'bool'> False\n",
      "002 <class 'int'> 47\n",
      "003 <class 'int'> 25000\n",
      "003 <class 'int'> 25000\n",
      "005 <class 'float'> 3.14\n",
      "006 <class 'float'> 270000.0\n",
      "007 <class 'complex'> 3j\n",
      "008 <class 'complex'> (5+9j)\n",
      "009 <class 'str'> alice\n",
      "010 <class 'str'> bob\n",
      "011 <class 'list'> ['x', 'y', 'z']\n",
      "012 <class 'tuple'> (2, 4, 8, 2)\n",
      "013 <class 'bytes'> b'\\xe3\\x81\\x82'\n",
      "014 <class 'bytearray'> bytearray(b'\\x00\\x00\\x00\\x00\\x00')\n",
      "015 <class 'set'> {3, 5, 7}\n",
      "016 <class 'frozenset'> frozenset({'Otto', 'Elsa'})\n",
      "017 <class 'dict'> {'fabrique': 'fabric', 'tenez': 'tennis', 'espionnage': 'spy'}\n"
     ]
    }
   ],
   "source": [
    "print_type_value([\n",
    "    True, False,\n",
    "    47, 25000, 25_000,\n",
    "    3.14, 2.7e5,\n",
    "    3j , 5+9j,\n",
    "    'alice','bob',\n",
    "    ['x','y','z'],\n",
    "    (2,4,8,2),\n",
    "    b\"\\xe3\\x81\\x82\",\n",
    "    bytearray(5),\n",
    "    {3,5,7,3}, # setでは、重複する要素はなくなる\n",
    "    frozenset(['Elsa', 'Otto']),\n",
    "    {'fabrique':'fabric', 'tenez':'tennis', 'espionnage':'spy'}\n",
    "])"
   ]
  },
  {
   "cell_type": "code",
   "execution_count": null,
   "id": "8eb351e8",
   "metadata": {},
   "outputs": [],
   "source": []
  }
 ],
 "metadata": {
  "kernelspec": {
   "display_name": "Python 3 (ipykernel)",
   "language": "python",
   "name": "python3"
  },
  "language_info": {
   "codemirror_mode": {
    "name": "ipython",
    "version": 3
   },
   "file_extension": ".py",
   "mimetype": "text/x-python",
   "name": "python",
   "nbconvert_exporter": "python",
   "pygments_lexer": "ipython3",
   "version": "3.11.3"
  }
 },
 "nbformat": 4,
 "nbformat_minor": 5
}
